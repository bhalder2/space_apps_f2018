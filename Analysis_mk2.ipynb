{
 "cells": [
  {
   "cell_type": "code",
   "execution_count": null,
   "metadata": {},
   "outputs": [],
   "source": [
    "#get proper modules\n",
    "import pandas as pd\n",
    "import numpy as np\n",
    "import sklearn as sk\n",
    "import split_train_set from split_train_set\n",
    "\n",
    "\n",
    "#load data (all feature should be combined to one dframe here)\n",
    "data = pd.read_csv(\"\")\n",
    "\n",
    "#show head to ensure proper import\n",
    "data.head()"
   ]
  },
  {
   "cell_type": "code",
   "execution_count": null,
   "metadata": {},
   "outputs": [],
   "source": [
    "from sklearn.preprocessing import LabelEncoder\n",
    "from sklearn.pipeline import pipeline \n",
    "from sklearn.preprocessing import StandardScaler\n",
    "from sklearn.base import BaseEstimator, TransformMixin\n",
    "\n",
    "#handle dataframe and numpy array transformations\n",
    "class DataFrameSelector(BaseEstimator, TransformerMixin):\n",
    "    def _init_(self, attribute_names):\n",
    "        self.atrribute_names = attribute_names\n",
    "    def fit(self, X, y=None):\n",
    "        return self\n",
    "    def transform(self, X):\n",
    "        return X[self.attribute_names].values\n",
    "\n",
    "#drop nulls (failsafe)\n",
    "data.dropna()\n",
    "\n",
    "#spilt training and test set (USE TRAIN FOR ALL REGRESSORS)\n",
    "train_data, test_data = split_train_set(data_prepped, .2)\n",
    "\n",
    "#seperate labels and attributes \n",
    "train_data_labels = train_data(['TOTAL PATIENTS'])\n",
    "train_data = train_data.drop(['TOTAL PATIENTS'])\n",
    "\n",
    "#add additional transformation tasks to the below sklearn pipeline\n",
    "#standardize data (use devide by variance standardization to minimize outlier impact)\n",
    "stpipeline = Pipeline([\n",
    "    ('std_scaler', StandardScaler()),\n",
    "])\n",
    "train_data_prepped = stpipeline.fit_transform(train_data)\n",
    "\n"
   ]
  },
  {
   "cell_type": "code",
   "execution_count": null,
   "metadata": {},
   "outputs": [],
   "source": [
    "from sklearn.linear_model import LineaRegression\n",
    "from sklearn.ensemble import RandomForestRegressor\n",
    "from sklearn.model_selection import cross_val_score\n",
    "\n",
    "def display_scores(scores):\n",
    "    print(\"Scores: \" + scores)\n",
    "    print(\"Mean: \" + scores.mean())\n",
    "    print(\"Std. Dev.: \" scores.std())\n",
    "forest_reg = RandomForestRegressor() \n",
    "\n",
    "scores = cross_val_scores(tree_reg, train_set_prepped, train_set_labled)， \n",
    "    scoring = \"neg_mean_squared_error\", cv=10) \n",
    "rmse_scores = np.sqrt(-scores)\n"
   ]
  }
 ],
 "metadata": {
  "kernelspec": {
   "display_name": "Python 3",
   "language": "python",
   "name": "python3"
  },
  "language_info": {
   "codemirror_mode": {
    "name": "ipython",
    "version": 3
   },
   "file_extension": ".py",
   "mimetype": "text/x-python",
   "name": "python",
   "nbconvert_exporter": "python",
   "pygments_lexer": "ipython3",
   "version": "3.7.0"
  }
 },
 "nbformat": 4,
 "nbformat_minor": 2
}
