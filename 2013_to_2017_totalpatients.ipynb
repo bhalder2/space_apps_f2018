{
 "cells": [
  {
   "cell_type": "code",
   "execution_count": 60,
   "metadata": {},
   "outputs": [],
   "source": [
    "import numpy as np\n",
    "import pandas as pd\n",
    "import matplotlib.pyplot as plt\n"
   ]
  },
  {
   "cell_type": "code",
   "execution_count": 61,
   "metadata": {},
   "outputs": [],
   "source": [
    "file = 'for_udit.txt'\n",
    "data = pd.read_csv(file, skiprows = 1, index_col = False)"
   ]
  },
  {
   "cell_type": "code",
   "execution_count": 62,
   "metadata": {},
   "outputs": [],
   "source": [
    "data.columns = ['REGION', 'YEAR', 'WEEK', 'TOTAL PATIENTS']"
   ]
  },
  {
   "cell_type": "code",
   "execution_count": 64,
   "metadata": {},
   "outputs": [],
   "source": [
    "data_2013 = data[data['YEAR'] == 2013]"
   ]
  },
  {
   "cell_type": "code",
   "execution_count": 63,
   "metadata": {},
   "outputs": [
    {
     "name": "stderr",
     "output_type": "stream",
     "text": [
      "/anaconda3/lib/python3.7/site-packages/ipykernel_launcher.py:1: SettingWithCopyWarning: \n",
      "A value is trying to be set on a copy of a slice from a DataFrame.\n",
      "Try using .loc[row_indexer,col_indexer] = value instead\n",
      "\n",
      "See the caveats in the documentation: http://pandas.pydata.org/pandas-docs/stable/indexing.html#indexing-view-versus-copy\n",
      "  \"\"\"Entry point for launching an IPython kernel.\n"
     ]
    }
   ],
   "source": [
    "data_2013['TOTAL PATIENTS'] = data_2013['TOTAL PATIENTS'].astype(int)"
   ]
  },
  {
   "cell_type": "code",
   "execution_count": 65,
   "metadata": {},
   "outputs": [
    {
     "name": "stdout",
     "output_type": "stream",
     "text": [
      "<class 'pandas.core.frame.DataFrame'>\n",
      "Int64Index: 2717 entries, 6030 to 8746\n",
      "Data columns (total 4 columns):\n",
      "REGION            2717 non-null object\n",
      "YEAR              2717 non-null int64\n",
      "WEEK              2717 non-null int64\n",
      "TOTAL PATIENTS    2717 non-null int64\n",
      "dtypes: int64(3), object(1)\n",
      "memory usage: 106.1+ KB\n"
     ]
    }
   ],
   "source": [
    "data_2013.info()"
   ]
  },
  {
   "cell_type": "code",
   "execution_count": 32,
   "metadata": {},
   "outputs": [],
   "source": [
    "i = 1\n",
    "month1_2013 = data_2013[np.logical_and(data_2013['WEEK'] >= (4 * i - 3), data_2013['WEEK'] <= (4 * i))].groupby(['REGION']).sum().drop(['YEAR', 'WEEK'], axis=1).assign(MONTH=i)\n"
   ]
  },
  {
   "cell_type": "code",
   "execution_count": 36,
   "metadata": {},
   "outputs": [],
   "source": [
    "i = 2\n",
    "month2_2013 = data_2013[np.logical_and(data_2013['WEEK'] >= (4 * i - 3), data_2013['WEEK'] <= (4 * i))].groupby(['REGION']).sum().drop(['YEAR', 'WEEK'], axis=1).assign(MONTH=i)\n",
    "\n"
   ]
  },
  {
   "cell_type": "code",
   "execution_count": 38,
   "metadata": {},
   "outputs": [],
   "source": [
    "i = 3\n",
    "month3_2013 = data_2013[np.logical_and(data_2013['WEEK'] >= (4 * i - 3), data_2013['WEEK'] <= (4 * i))].groupby(['REGION']).sum().drop(['YEAR', 'WEEK'], axis=1).assign(MONTH=i)\n",
    "\n"
   ]
  },
  {
   "cell_type": "code",
   "execution_count": 40,
   "metadata": {},
   "outputs": [],
   "source": [
    "i = 4\n",
    "month4_2013 = data_2013[np.logical_and(data_2013['WEEK'] >= (4 * i - 3), data_2013['WEEK'] <= (4 * i))].groupby(['REGION']).sum().drop(['YEAR', 'WEEK'], axis=1).assign(MONTH=i)\n",
    "\n"
   ]
  },
  {
   "cell_type": "code",
   "execution_count": 41,
   "metadata": {},
   "outputs": [],
   "source": [
    "i = 5\n",
    "month5_2013 = data_2013[np.logical_and(data_2013['WEEK'] >= (4 * i - 3), data_2013['WEEK'] <= (4 * i))].groupby(['REGION']).sum().drop(['YEAR', 'WEEK'], axis=1).assign(MONTH=i)\n"
   ]
  },
  {
   "cell_type": "code",
   "execution_count": 42,
   "metadata": {},
   "outputs": [],
   "source": [
    "i = 6\n",
    "month6_2013 = data_2013[np.logical_and(data_2013['WEEK'] >= (4 * i - 3), data_2013['WEEK'] <= (4 * i))].groupby(['REGION']).sum().drop(['YEAR', 'WEEK'], axis=1).assign(MONTH=i)\n"
   ]
  },
  {
   "cell_type": "code",
   "execution_count": 51,
   "metadata": {},
   "outputs": [],
   "source": [
    "i = 7\n",
    "month7_2013 = data_2013[np.logical_and(data_2013['WEEK'] >= (4 * i - 3), data_2013['WEEK'] <= (4 * i))].groupby(['REGION']).sum().drop(['YEAR', 'WEEK'], axis=1).assign(MONTH=i)\n"
   ]
  },
  {
   "cell_type": "code",
   "execution_count": 52,
   "metadata": {},
   "outputs": [],
   "source": [
    "i = 8\n",
    "month8_2013 = data_2013[np.logical_and(data_2013['WEEK'] >= (4 * i - 3), data_2013['WEEK'] <= (4 * i))].groupby(['REGION']).sum().drop(['YEAR', 'WEEK'], axis=1).assign(MONTH=i)\n"
   ]
  },
  {
   "cell_type": "code",
   "execution_count": 53,
   "metadata": {},
   "outputs": [],
   "source": [
    "i = 9\n",
    "month9_2013 = data_2013[np.logical_and(data_2013['WEEK'] >= (4 * i - 3), data_2013['WEEK'] <= (4 * i))].groupby(['REGION']).sum().drop(['YEAR', 'WEEK'], axis=1).assign(MONTH=i)\n"
   ]
  },
  {
   "cell_type": "code",
   "execution_count": 54,
   "metadata": {},
   "outputs": [],
   "source": [
    "i = 10\n",
    "month10_2013 = data_2013[np.logical_and(data_2013['WEEK'] >= (4 * i - 3), data_2013['WEEK'] <= (4 * i))].groupby(['REGION']).sum().drop(['YEAR', 'WEEK'], axis=1).assign(MONTH=i)\n"
   ]
  },
  {
   "cell_type": "code",
   "execution_count": 55,
   "metadata": {},
   "outputs": [],
   "source": [
    "i = 11\n",
    "month11_2013 = data_2013[np.logical_and(data_2013['WEEK'] >= (4 * i - 3), data_2013['WEEK'] <= (4 * i))].groupby(['REGION']).sum().drop(['YEAR', 'WEEK'], axis=1).assign(MONTH=i)\n",
    "\n"
   ]
  },
  {
   "cell_type": "code",
   "execution_count": 56,
   "metadata": {},
   "outputs": [],
   "source": [
    "i = 12\n",
    "month12_2013 = data_2013[np.logical_and(data_2013['WEEK'] >= (4 * i - 3), data_2013['WEEK'] <= (4 * i))].groupby(['REGION']).sum().drop(['YEAR', 'WEEK'], axis=1).assign(MONTH=i)\n",
    "\n"
   ]
  },
  {
   "cell_type": "code",
   "execution_count": 66,
   "metadata": {},
   "outputs": [],
   "source": [
    "frames = [month1_2013, month2_2013, month3_2013, month4_2013, month5_2013, month6_2013, month7_2013, month8_2013, month9_2013, month10_2013, month11_2013, month12_2013]\n",
    "result = pd.concat(frames)\n",
    "result.reset_index(level=0, inplace=True)"
   ]
  },
  {
   "cell_type": "code",
   "execution_count": 68,
   "metadata": {},
   "outputs": [],
   "source": [
    "result2013 = result"
   ]
  },
  {
   "cell_type": "code",
   "execution_count": 72,
   "metadata": {},
   "outputs": [],
   "source": [
    "data_2014 = data[data['YEAR'] == 2014]"
   ]
  },
  {
   "cell_type": "code",
   "execution_count": 74,
   "metadata": {},
   "outputs": [
    {
     "name": "stderr",
     "output_type": "stream",
     "text": [
      "/anaconda3/lib/python3.7/site-packages/ipykernel_launcher.py:1: SettingWithCopyWarning: \n",
      "A value is trying to be set on a copy of a slice from a DataFrame.\n",
      "Try using .loc[row_indexer,col_indexer] = value instead\n",
      "\n",
      "See the caveats in the documentation: http://pandas.pydata.org/pandas-docs/stable/indexing.html#indexing-view-versus-copy\n",
      "  \"\"\"Entry point for launching an IPython kernel.\n"
     ]
    }
   ],
   "source": [
    "data_2014['TOTAL PATIENTS'] = data_2014['TOTAL PATIENTS'].astype(int)"
   ]
  },
  {
   "cell_type": "code",
   "execution_count": 78,
   "metadata": {},
   "outputs": [
    {
     "name": "stdout",
     "output_type": "stream",
     "text": [
      "<class 'pandas.core.frame.DataFrame'>\n",
      "Int64Index: 2809 entries, 8747 to 11555\n",
      "Data columns (total 4 columns):\n",
      "REGION            2809 non-null object\n",
      "YEAR              2809 non-null int64\n",
      "WEEK              2809 non-null int64\n",
      "TOTAL PATIENTS    2809 non-null int64\n",
      "dtypes: int64(3), object(1)\n",
      "memory usage: 109.7+ KB\n"
     ]
    }
   ],
   "source": [
    "data_2014.info()"
   ]
  },
  {
   "cell_type": "code",
   "execution_count": 81,
   "metadata": {},
   "outputs": [],
   "source": [
    "i = 1\n",
    "month1_2014 = data_2014[np.logical_and(data_2014['WEEK'] >= (4 * i - 3), data_2014['WEEK'] <= (4 * i))].groupby(['REGION']).sum().drop(['YEAR', 'WEEK'], axis=1).assign(MONTH=i)\n",
    "\n",
    "i = 2\n",
    "month2_2014 = data_2014[np.logical_and(data_2014['WEEK'] >= (4 * i - 3), data_2014['WEEK'] <= (4 * i))].groupby(['REGION']).sum().drop(['YEAR', 'WEEK'], axis=1).assign(MONTH=i)\n",
    "\n",
    "i = 3\n",
    "month3_2014 = data_2014[np.logical_and(data_2014['WEEK'] >= (4 * i - 3), data_2014['WEEK'] <= (4 * i))].groupby(['REGION']).sum().drop(['YEAR', 'WEEK'], axis=1).assign(MONTH=i)\n",
    "\n",
    "i = 4\n",
    "month4_2014 = data_2014[np.logical_and(data_2014['WEEK'] >= (4 * i - 3), data_2014['WEEK'] <= (4 * i))].groupby(['REGION']).sum().drop(['YEAR', 'WEEK'], axis=1).assign(MONTH=i)\n",
    "\n",
    "i = 5\n",
    "month5_2014 = data_2014[np.logical_and(data_2014['WEEK'] >= (4 * i - 3), data_2014['WEEK'] <= (4 * i))].groupby(['REGION']).sum().drop(['YEAR', 'WEEK'], axis=1).assign(MONTH=i)\n",
    "\n",
    "i = 6\n",
    "month6_2014 = data_2014[np.logical_and(data_2014['WEEK'] >= (4 * i - 3), data_2014['WEEK'] <= (4 * i))].groupby(['REGION']).sum().drop(['YEAR', 'WEEK'], axis=1).assign(MONTH=i)\n",
    "\n",
    "i = 7\n",
    "month7_2014 = data_2014[np.logical_and(data_2014['WEEK'] >= (4 * i - 3), data_2014['WEEK'] <= (4 * i))].groupby(['REGION']).sum().drop(['YEAR', 'WEEK'], axis=1).assign(MONTH=i)\n",
    "\n",
    "i = 8\n",
    "month8_2014 = data_2014[np.logical_and(data_2014['WEEK'] >= (4 * i - 3), data_2014['WEEK'] <= (4 * i))].groupby(['REGION']).sum().drop(['YEAR', 'WEEK'], axis=1).assign(MONTH=i)\n",
    "\n",
    "i = 9\n",
    "month9_2014 = data_2014[np.logical_and(data_2014['WEEK'] >= (4 * i - 3), data_2014['WEEK'] <= (4 * i))].groupby(['REGION']).sum().drop(['YEAR', 'WEEK'], axis=1).assign(MONTH=i)\n",
    "\n",
    "i = 10\n",
    "month10_2014 = data_2014[np.logical_and(data_2014['WEEK'] >= (4 * i - 3), data_2014['WEEK'] <= (4 * i))].groupby(['REGION']).sum().drop(['YEAR', 'WEEK'], axis=1).assign(MONTH=i)\n",
    "\n",
    "i = 11\n",
    "month11_2014 = data_2014[np.logical_and(data_2014['WEEK'] >= (4 * i - 3), data_2014['WEEK'] <= (4 * i))].groupby(['REGION']).sum().drop(['YEAR', 'WEEK'], axis=1).assign(MONTH=i)\n",
    "\n",
    "i = 12\n",
    "month12_2014 = data_2014[np.logical_and(data_2014['WEEK'] >= (4 * i - 3), data_2014['WEEK'] <= (4 * i))].groupby(['REGION']).sum().drop(['YEAR', 'WEEK'], axis=1).assign(MONTH=i)\n",
    "\n"
   ]
  },
  {
   "cell_type": "code",
   "execution_count": 83,
   "metadata": {},
   "outputs": [],
   "source": [
    "frames = [month1_2014, month2_2014, month3_2014, month4_2014, month5_2014, month6_2014, month7_2014, month8_2014, month9_2014, month10_2014, month11_2014, month12_2014]\n",
    "result = pd.concat(frames)\n",
    "result.reset_index(level=0, inplace=True)"
   ]
  },
  {
   "cell_type": "code",
   "execution_count": 85,
   "metadata": {},
   "outputs": [],
   "source": [
    "result2014 = result"
   ]
  },
  {
   "cell_type": "code",
   "execution_count": 87,
   "metadata": {},
   "outputs": [],
   "source": [
    "data_2015 = data[data['YEAR'] == 2015]"
   ]
  },
  {
   "cell_type": "code",
   "execution_count": 89,
   "metadata": {},
   "outputs": [
    {
     "name": "stderr",
     "output_type": "stream",
     "text": [
      "/anaconda3/lib/python3.7/site-packages/ipykernel_launcher.py:1: SettingWithCopyWarning: \n",
      "A value is trying to be set on a copy of a slice from a DataFrame.\n",
      "Try using .loc[row_indexer,col_indexer] = value instead\n",
      "\n",
      "See the caveats in the documentation: http://pandas.pydata.org/pandas-docs/stable/indexing.html#indexing-view-versus-copy\n",
      "  \"\"\"Entry point for launching an IPython kernel.\n"
     ]
    }
   ],
   "source": [
    "data_2015['TOTAL PATIENTS'] = data_2015['TOTAL PATIENTS'].astype(int)"
   ]
  },
  {
   "cell_type": "code",
   "execution_count": 91,
   "metadata": {},
   "outputs": [
    {
     "name": "stdout",
     "output_type": "stream",
     "text": [
      "<class 'pandas.core.frame.DataFrame'>\n",
      "Int64Index: 2756 entries, 11556 to 14311\n",
      "Data columns (total 4 columns):\n",
      "REGION            2756 non-null object\n",
      "YEAR              2756 non-null int64\n",
      "WEEK              2756 non-null int64\n",
      "TOTAL PATIENTS    2756 non-null int64\n",
      "dtypes: int64(3), object(1)\n",
      "memory usage: 107.7+ KB\n"
     ]
    }
   ],
   "source": [
    "data_2015.info()"
   ]
  },
  {
   "cell_type": "code",
   "execution_count": 93,
   "metadata": {},
   "outputs": [],
   "source": [
    "i = 1\n",
    "month1_2015 = data_2015[np.logical_and(data_2015['WEEK'] >= (4 * i - 3), data_2015['WEEK'] <= (4 * i))].groupby(['REGION']).sum().drop(['YEAR', 'WEEK'], axis=1).assign(MONTH=i)\n",
    "\n",
    "i = 2\n",
    "month2_2015 = data_2015[np.logical_and(data_2015['WEEK'] >= (4 * i - 3), data_2015['WEEK'] <= (4 * i))].groupby(['REGION']).sum().drop(['YEAR', 'WEEK'], axis=1).assign(MONTH=i)\n",
    "\n",
    "i = 3\n",
    "month3_2015 = data_2015[np.logical_and(data_2015['WEEK'] >= (4 * i - 3), data_2015['WEEK'] <= (4 * i))].groupby(['REGION']).sum().drop(['YEAR', 'WEEK'], axis=1).assign(MONTH=i)\n",
    "\n",
    "i = 4\n",
    "month4_2015 = data_2015[np.logical_and(data_2015['WEEK'] >= (4 * i - 3), data_2015['WEEK'] <= (4 * i))].groupby(['REGION']).sum().drop(['YEAR', 'WEEK'], axis=1).assign(MONTH=i)\n",
    "\n",
    "i = 5\n",
    "month5_2015 = data_2015[np.logical_and(data_2015['WEEK'] >= (4 * i - 3), data_2015['WEEK'] <= (4 * i))].groupby(['REGION']).sum().drop(['YEAR', 'WEEK'], axis=1).assign(MONTH=i)\n",
    "\n",
    "i = 6\n",
    "month6_2015 = data_2015[np.logical_and(data_2015['WEEK'] >= (4 * i - 3), data_2015['WEEK'] <= (4 * i))].groupby(['REGION']).sum().drop(['YEAR', 'WEEK'], axis=1).assign(MONTH=i)\n",
    "\n",
    "i = 7\n",
    "month7_2015 = data_2015[np.logical_and(data_2015['WEEK'] >= (4 * i - 3), data_2015['WEEK'] <= (4 * i))].groupby(['REGION']).sum().drop(['YEAR', 'WEEK'], axis=1).assign(MONTH=i)\n",
    "\n",
    "i = 8\n",
    "month8_2015 = data_2015[np.logical_and(data_2015['WEEK'] >= (4 * i - 3), data_2015['WEEK'] <= (4 * i))].groupby(['REGION']).sum().drop(['YEAR', 'WEEK'], axis=1).assign(MONTH=i)\n",
    "\n",
    "i = 9\n",
    "month9_2015 = data_2015[np.logical_and(data_2015['WEEK'] >= (4 * i - 3), data_2015['WEEK'] <= (4 * i))].groupby(['REGION']).sum().drop(['YEAR', 'WEEK'], axis=1).assign(MONTH=i)\n",
    "\n",
    "i = 10\n",
    "month10_2015 = data_2015[np.logical_and(data_2015['WEEK'] >= (4 * i - 3), data_2015['WEEK'] <= (4 * i))].groupby(['REGION']).sum().drop(['YEAR', 'WEEK'], axis=1).assign(MONTH=i)\n",
    "\n",
    "i = 11\n",
    "month11_2015 = data_2015[np.logical_and(data_2015['WEEK'] >= (4 * i - 3), data_2015['WEEK'] <= (4 * i))].groupby(['REGION']).sum().drop(['YEAR', 'WEEK'], axis=1).assign(MONTH=i)\n",
    "\n",
    "i = 12\n",
    "month12_2015 = data_2015[np.logical_and(data_2015['WEEK'] >= (4 * i - 3), data_2015['WEEK'] <= (4 * i))].groupby(['REGION']).sum().drop(['YEAR', 'WEEK'], axis=1).assign(MONTH=i)\n",
    "\n"
   ]
  },
  {
   "cell_type": "code",
   "execution_count": 95,
   "metadata": {},
   "outputs": [],
   "source": [
    "frames = [month1_2015, month2_2015, month3_2015, month4_2015, month5_2015, month6_2015, month7_2015, month8_2015, month9_2015, month10_2015, month11_2015, month12_2015]\n",
    "result = pd.concat(frames)\n",
    "result.reset_index(level=0, inplace=True)"
   ]
  },
  {
   "cell_type": "code",
   "execution_count": 97,
   "metadata": {},
   "outputs": [],
   "source": [
    "result2015 = result"
   ]
  },
  {
   "cell_type": "code",
   "execution_count": 99,
   "metadata": {},
   "outputs": [],
   "source": [
    "data_2016 = data[data['YEAR'] == 2016]"
   ]
  },
  {
   "cell_type": "code",
   "execution_count": 101,
   "metadata": {},
   "outputs": [
    {
     "name": "stderr",
     "output_type": "stream",
     "text": [
      "/anaconda3/lib/python3.7/site-packages/ipykernel_launcher.py:1: SettingWithCopyWarning: \n",
      "A value is trying to be set on a copy of a slice from a DataFrame.\n",
      "Try using .loc[row_indexer,col_indexer] = value instead\n",
      "\n",
      "See the caveats in the documentation: http://pandas.pydata.org/pandas-docs/stable/indexing.html#indexing-view-versus-copy\n",
      "  \"\"\"Entry point for launching an IPython kernel.\n"
     ]
    }
   ],
   "source": [
    "data_2016['TOTAL PATIENTS'] = data_2016['TOTAL PATIENTS'].astype(int)"
   ]
  },
  {
   "cell_type": "code",
   "execution_count": 103,
   "metadata": {},
   "outputs": [
    {
     "name": "stdout",
     "output_type": "stream",
     "text": [
      "<class 'pandas.core.frame.DataFrame'>\n",
      "Int64Index: 2756 entries, 14312 to 17067\n",
      "Data columns (total 4 columns):\n",
      "REGION            2756 non-null object\n",
      "YEAR              2756 non-null int64\n",
      "WEEK              2756 non-null int64\n",
      "TOTAL PATIENTS    2756 non-null int64\n",
      "dtypes: int64(3), object(1)\n",
      "memory usage: 107.7+ KB\n"
     ]
    }
   ],
   "source": [
    "data_2016.info()"
   ]
  },
  {
   "cell_type": "code",
   "execution_count": 105,
   "metadata": {},
   "outputs": [],
   "source": [
    "i = 1\n",
    "month1_2016 = data_2016[np.logical_and(data_2016['WEEK'] >= (4 * i - 3), data_2016['WEEK'] <= (4 * i))].groupby(['REGION']).sum().drop(['YEAR', 'WEEK'], axis=1).assign(MONTH=i)\n",
    "\n",
    "i = 2\n",
    "month2_2016 = data_2016[np.logical_and(data_2016['WEEK'] >= (4 * i - 3), data_2016['WEEK'] <= (4 * i))].groupby(['REGION']).sum().drop(['YEAR', 'WEEK'], axis=1).assign(MONTH=i)\n",
    "\n",
    "i = 3\n",
    "month3_2016 = data_2016[np.logical_and(data_2016['WEEK'] >= (4 * i - 3), data_2016['WEEK'] <= (4 * i))].groupby(['REGION']).sum().drop(['YEAR', 'WEEK'], axis=1).assign(MONTH=i)\n",
    "\n",
    "i = 4\n",
    "month4_2016 = data_2016[np.logical_and(data_2016['WEEK'] >= (4 * i - 3), data_2016['WEEK'] <= (4 * i))].groupby(['REGION']).sum().drop(['YEAR', 'WEEK'], axis=1).assign(MONTH=i)\n",
    "\n",
    "i = 5\n",
    "month5_2016 = data_2016[np.logical_and(data_2016['WEEK'] >= (4 * i - 3), data_2016['WEEK'] <= (4 * i))].groupby(['REGION']).sum().drop(['YEAR', 'WEEK'], axis=1).assign(MONTH=i)\n",
    "\n",
    "i = 6\n",
    "month6_2016 = data_2016[np.logical_and(data_2016['WEEK'] >= (4 * i - 3), data_2016['WEEK'] <= (4 * i))].groupby(['REGION']).sum().drop(['YEAR', 'WEEK'], axis=1).assign(MONTH=i)\n",
    "\n",
    "i = 7\n",
    "month7_2016 = data_2016[np.logical_and(data_2016['WEEK'] >= (4 * i - 3), data_2016['WEEK'] <= (4 * i))].groupby(['REGION']).sum().drop(['YEAR', 'WEEK'], axis=1).assign(MONTH=i)\n",
    "\n",
    "i = 8\n",
    "month8_2016 = data_2016[np.logical_and(data_2016['WEEK'] >= (4 * i - 3), data_2016['WEEK'] <= (4 * i))].groupby(['REGION']).sum().drop(['YEAR', 'WEEK'], axis=1).assign(MONTH=i)\n",
    "\n",
    "i = 9\n",
    "month9_2016 = data_2016[np.logical_and(data_2016['WEEK'] >= (4 * i - 3), data_2016['WEEK'] <= (4 * i))].groupby(['REGION']).sum().drop(['YEAR', 'WEEK'], axis=1).assign(MONTH=i)\n",
    "\n",
    "i = 10\n",
    "month10_2016 = data_2016[np.logical_and(data_2016['WEEK'] >= (4 * i - 3), data_2016['WEEK'] <= (4 * i))].groupby(['REGION']).sum().drop(['YEAR', 'WEEK'], axis=1).assign(MONTH=i)\n",
    "\n",
    "i = 11\n",
    "month11_2016 = data_2016[np.logical_and(data_2016['WEEK'] >= (4 * i - 3), data_2016['WEEK'] <= (4 * i))].groupby(['REGION']).sum().drop(['YEAR', 'WEEK'], axis=1).assign(MONTH=i)\n",
    "\n",
    "i = 12\n",
    "month12_2016 = data_2016[np.logical_and(data_2016['WEEK'] >= (4 * i - 3), data_2016['WEEK'] <= (4 * i))].groupby(['REGION']).sum().drop(['YEAR', 'WEEK'], axis=1).assign(MONTH=i)\n",
    "\n"
   ]
  },
  {
   "cell_type": "code",
   "execution_count": 108,
   "metadata": {},
   "outputs": [],
   "source": [
    "frames = [month1_2016, month2_2016, month3_2016, month4_2016, month5_2016, month6_2016, month7_2016, month8_2016, month9_2016, month10_2016, month11_2016, month12_2016]\n",
    "result = pd.concat(frames)\n",
    "result.reset_index(level=0, inplace=True)"
   ]
  },
  {
   "cell_type": "code",
   "execution_count": 110,
   "metadata": {},
   "outputs": [],
   "source": [
    "result2016 = result"
   ]
  },
  {
   "cell_type": "code",
   "execution_count": 116,
   "metadata": {},
   "outputs": [],
   "source": [
    "data_2017 = data[data['YEAR'] == 2017]"
   ]
  },
  {
   "cell_type": "code",
   "execution_count": 117,
   "metadata": {},
   "outputs": [
    {
     "name": "stdout",
     "output_type": "stream",
     "text": [
      "<class 'pandas.core.frame.DataFrame'>\n",
      "Int64Index: 2756 entries, 17068 to 19823\n",
      "Data columns (total 4 columns):\n",
      "REGION            2756 non-null object\n",
      "YEAR              2756 non-null int64\n",
      "WEEK              2756 non-null int64\n",
      "TOTAL PATIENTS    2756 non-null int64\n",
      "dtypes: int64(3), object(1)\n",
      "memory usage: 107.7+ KB\n"
     ]
    },
    {
     "name": "stderr",
     "output_type": "stream",
     "text": [
      "/anaconda3/lib/python3.7/site-packages/ipykernel_launcher.py:1: SettingWithCopyWarning: \n",
      "A value is trying to be set on a copy of a slice from a DataFrame.\n",
      "Try using .loc[row_indexer,col_indexer] = value instead\n",
      "\n",
      "See the caveats in the documentation: http://pandas.pydata.org/pandas-docs/stable/indexing.html#indexing-view-versus-copy\n",
      "  \"\"\"Entry point for launching an IPython kernel.\n"
     ]
    }
   ],
   "source": [
    "data_2017['TOTAL PATIENTS'] = data_2017['TOTAL PATIENTS'].astype(int)\n",
    "data_2017.info()"
   ]
  },
  {
   "cell_type": "code",
   "execution_count": 119,
   "metadata": {},
   "outputs": [],
   "source": [
    "i = 1\n",
    "month1_2017 = data_2017[np.logical_and(data_2017['WEEK'] >= (4 * i - 3), data_2017['WEEK'] <= (4 * i))].groupby(['REGION']).sum().drop(['YEAR', 'WEEK'], axis=1).assign(MONTH=i)\n",
    "\n",
    "i = 2\n",
    "month2_2017 = data_2017[np.logical_and(data_2017['WEEK'] >= (4 * i - 3), data_2017['WEEK'] <= (4 * i))].groupby(['REGION']).sum().drop(['YEAR', 'WEEK'], axis=1).assign(MONTH=i)\n",
    "\n",
    "i = 3\n",
    "month3_2017 = data_2017[np.logical_and(data_2017['WEEK'] >= (4 * i - 3), data_2017['WEEK'] <= (4 * i))].groupby(['REGION']).sum().drop(['YEAR', 'WEEK'], axis=1).assign(MONTH=i)\n",
    "\n",
    "i = 4\n",
    "month4_2017 = data_2017[np.logical_and(data_2017['WEEK'] >= (4 * i - 3), data_2017['WEEK'] <= (4 * i))].groupby(['REGION']).sum().drop(['YEAR', 'WEEK'], axis=1).assign(MONTH=i)\n",
    "\n",
    "i = 5\n",
    "month5_2017 = data_2017[np.logical_and(data_2017['WEEK'] >= (4 * i - 3), data_2017['WEEK'] <= (4 * i))].groupby(['REGION']).sum().drop(['YEAR', 'WEEK'], axis=1).assign(MONTH=i)\n",
    "\n",
    "i = 6\n",
    "month6_2017 = data_2017[np.logical_and(data_2017['WEEK'] >= (4 * i - 3), data_2017['WEEK'] <= (4 * i))].groupby(['REGION']).sum().drop(['YEAR', 'WEEK'], axis=1).assign(MONTH=i)\n",
    "\n",
    "i = 7\n",
    "month7_2017 = data_2017[np.logical_and(data_2017['WEEK'] >= (4 * i - 3), data_2017['WEEK'] <= (4 * i))].groupby(['REGION']).sum().drop(['YEAR', 'WEEK'], axis=1).assign(MONTH=i)\n",
    "\n",
    "i = 8\n",
    "month8_2017 = data_2017[np.logical_and(data_2017['WEEK'] >= (4 * i - 3), data_2017['WEEK'] <= (4 * i))].groupby(['REGION']).sum().drop(['YEAR', 'WEEK'], axis=1).assign(MONTH=i)\n",
    "\n",
    "i = 9\n",
    "month9_2017 = data_2017[np.logical_and(data_2017['WEEK'] >= (4 * i - 3), data_2017['WEEK'] <= (4 * i))].groupby(['REGION']).sum().drop(['YEAR', 'WEEK'], axis=1).assign(MONTH=i)\n",
    "\n",
    "i = 10\n",
    "month10_2017 = data_2017[np.logical_and(data_2017['WEEK'] >= (4 * i - 3), data_2017['WEEK'] <= (4 * i))].groupby(['REGION']).sum().drop(['YEAR', 'WEEK'], axis=1).assign(MONTH=i)\n",
    "\n",
    "i = 11\n",
    "month11_2017 = data_2017[np.logical_and(data_2017['WEEK'] >= (4 * i - 3), data_2017['WEEK'] <= (4 * i))].groupby(['REGION']).sum().drop(['YEAR', 'WEEK'], axis=1).assign(MONTH=i)\n",
    "\n",
    "i = 12\n",
    "month12_2017 = data_2017[np.logical_and(data_2017['WEEK'] >= (4 * i - 3), data_2017['WEEK'] <= (4 * i))].groupby(['REGION']).sum().drop(['YEAR', 'WEEK'], axis=1).assign(MONTH=i)\n",
    "\n"
   ]
  },
  {
   "cell_type": "code",
   "execution_count": 121,
   "metadata": {},
   "outputs": [],
   "source": [
    "frames = [month1_2017, month2_2017, month3_2017, month4_2017, month5_2017, month6_2017, month7_2017, month8_2017, month9_2017, month10_2017, month11_2017, month12_2017]\n",
    "result = pd.concat(frames)\n",
    "result.reset_index(level=0, inplace=True)"
   ]
  },
  {
   "cell_type": "code",
   "execution_count": 123,
   "metadata": {},
   "outputs": [],
   "source": [
    "result2017 = result"
   ]
  },
  {
   "cell_type": "code",
   "execution_count": 125,
   "metadata": {},
   "outputs": [],
   "source": [
    "frames = [result2013, result2014, result2015, result2016, result2017]\n",
    "result = pd.concat(frames)\n"
   ]
  },
  {
   "cell_type": "code",
   "execution_count": null,
   "metadata": {},
   "outputs": [],
   "source": [
    "np.savetxt('health_data.txt', result, fmt=\"%s, %d, %d\") "
   ]
  }
 ],
 "metadata": {
  "kernelspec": {
   "display_name": "Python 3",
   "language": "python",
   "name": "python3"
  },
  "language_info": {
   "codemirror_mode": {
    "name": "ipython",
    "version": 3
   },
   "file_extension": ".py",
   "mimetype": "text/x-python",
   "name": "python",
   "nbconvert_exporter": "python",
   "pygments_lexer": "ipython3",
   "version": "3.7.0"
  }
 },
 "nbformat": 4,
 "nbformat_minor": 2
}
